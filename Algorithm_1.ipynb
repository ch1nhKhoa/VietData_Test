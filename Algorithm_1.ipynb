{
  "nbformat": 4,
  "nbformat_minor": 0,
  "metadata": {
    "colab": {
      "provenance": []
    },
    "kernelspec": {
      "name": "python3",
      "display_name": "Python 3"
    },
    "language_info": {
      "name": "python"
    }
  },
  "cells": [
    {
      "cell_type": "code",
      "execution_count": null,
      "metadata": {
        "id": "vCiof4Z3obAy"
      },
      "outputs": [],
      "source": [
        "import math\n",
        "import numpy as np\n",
        "\n",
        "class DiceGame:\n",
        "    def __init__(self, target_toss=1, consecutive_needed=3, prize_money=100000,\n",
        "                 failed_toss_cost=1000, success_then_failed_cost=7800,\n",
        "                 two_success_then_failed_cost=49500, num_dice=1):\n",
        "        self.target_toss = target_toss\n",
        "        self.consecutive_needed = consecutive_needed\n",
        "        self.prize_money = prize_money\n",
        "        self.failed_toss_cost = failed_toss_cost\n",
        "        self.success_then_failed_cost = success_then_failed_cost\n",
        "        self.two_success_then_failed_cost = two_success_then_failed_cost\n",
        "        self.num_dice = num_dice\n",
        "\n",
        "    def probability_of_success(self):\n",
        "        total_faces = 6\n",
        "        target_faces = 1 if self.num_dice == 1 else len(\n",
        "            set(str(self.num_dice * self.target_toss).zfill(2))\n",
        "        )\n",
        "        return target_faces / (total_faces ** self.num_dice)\n",
        "\n",
        "    def tosses_for_confidence(self, confidence=0.95):\n",
        "        p_success = self.probability_of_success()\n",
        "        return math.ceil(math.log(1 - confidence) / math.log(1 - p_success ** self.consecutive_needed))\n",
        "\n",
        "    def detailed_expected_value(self):\n",
        "        \"\"\"\n",
        "        Calculate detailed expected value considering multiple failure scenarios\n",
        "        \"\"\"\n",
        "        p_success = self.probability_of_success()\n",
        "        p_fail = 1 - p_success\n",
        "\n",
        "        # Probability of different consecutive failure scenarios\n",
        "        p_success_then_fail = p_fail * p_success\n",
        "        p_two_success_then_fail = p_fail * (p_success ** 2)\n",
        "\n",
        "        # Expected losses from different scenarios\n",
        "        loss_failed_toss = p_fail * self.failed_toss_cost\n",
        "        loss_success_then_failed = p_success_then_fail * self.success_then_failed_cost\n",
        "        loss_two_success_then_failed = p_two_success_then_fail * self.two_success_then_failed_cost\n",
        "        expected_failure_cost = loss_failed_toss + loss_success_then_failed + loss_two_success_then_failed\n",
        "\n",
        "        # Probability of winning\n",
        "        p_win = p_success ** self.consecutive_needed\n",
        "        expected_gain = p_win * self.prize_money\n",
        "\n",
        "        # Net gain/loss per toss\n",
        "        net_gain_or_loss_per_toss = expected_gain - expected_failure_cost\n",
        "\n",
        "        return {\n",
        "            \"Expected Failure Cost\": expected_failure_cost,\n",
        "            \"Net Gain/Loss per Toss\": net_gain_or_loss_per_toss\n",
        "        }\n",
        "\n",
        "    def relevant_premium(self):\n",
        "        expected_value = self.detailed_expected_value()\n",
        "        expected_failure_cost = expected_value[\"Expected Failure Cost\"]\n",
        "        p_success = self.probability_of_success()\n",
        "        p_win = p_success ** self.consecutive_needed\n",
        "        expected_gain_from_winning = p_win * self.prize_money\n",
        "\n",
        "        # Calculate the premium required for the game to be worth playing\n",
        "        premium_needed = expected_failure_cost - expected_gain_from_winning\n",
        "        return premium_needed\n",
        "\n",
        "    def optimal_strategy(self, num_players=4):\n",
        "        individual_prob = self.probability_of_success()\n",
        "        collective_prob = 1 - (1 - individual_prob) ** num_players\n",
        "\n",
        "        return {\n",
        "            \"Individual Success Probability\": individual_prob,\n",
        "            \"Collective Success Probability\": collective_prob,\n",
        "        }\n",
        "\n"
      ]
    },
    {
      "cell_type": "code",
      "source": [
        "# Game scenarios\n",
        "scenarios = [\n",
        "    {\"name\": \"Single Die Standard\", \"num_dice\": 1, \"prize_money\": 100000},\n",
        "    {\"name\": \"Two Dice High Stakes\", \"num_dice\": 2, \"prize_money\": 3000000}\n",
        "]\n",
        "\n",
        "for scenario in scenarios:\n",
        "    game = DiceGame(num_dice=scenario[\"num_dice\"], prize_money=scenario[\"prize_money\"])\n",
        "    print(f\"\\n{scenario['name']} Game Analysis:\")\n",
        "\n",
        "    # 1. How many dice tosses do you need to get to 95% win confidence?\n",
        "    tosses_needed = game.tosses_for_confidence(confidence=0.95)\n",
        "    print(f\"Tosses for 95% Confidence: {tosses_needed}\")\n",
        "\n",
        "    # 2. Calculate your net gain/loss per toss.\n",
        "    expected_value = game.detailed_expected_value()\n",
        "    print(f\"Net Gain/Loss per Toss: {expected_value['Net Gain/Loss per Toss']}\")\n",
        "\n",
        "    # 3. What is the minimum amount of prize money you will consider playing this game for? Calculate your relevant premium in this case.\n",
        "    premium_needed = game.relevant_premium()\n",
        "    print(f\"Premium Needed: {premium_needed}\")\n",
        "\n",
        "    # 4. Please rationalize the most efficient strategy to maximize gain/minimize loss with 4 players playing this game simultaneously.\n",
        "    optimal_strategy = game.optimal_strategy(num_players=4)\n",
        "    print(f\"Optimal Strategy: {optimal_strategy}\")"
      ],
      "metadata": {
        "colab": {
          "base_uri": "https://localhost:8080/"
        },
        "id": "Sf0owdXFpuuK",
        "outputId": "f3e81512-cab6-4be8-f172-4b6e7abc42a0"
      },
      "execution_count": null,
      "outputs": [
        {
          "output_type": "stream",
          "name": "stdout",
          "text": [
            "\n",
            "Single Die Standard Game Analysis:\n",
            "Tosses for 95% Confidence: 646\n",
            "Net Gain/Loss per Toss: -2599.537037037037\n",
            "Premium Needed: 2599.537037037037\n",
            "Optimal Strategy: {'Individual Success Probability': 0.16666666666666666, 'Collective Success Probability': 0.5177469135802468}\n",
            "\n",
            "Two Dice High Stakes Game Analysis:\n",
            "Tosses for 95% Confidence: 17470\n",
            "Net Gain/Loss per Toss: -983.590534979424\n",
            "Premium Needed: 983.590534979424\n",
            "Optimal Strategy: {'Individual Success Probability': 0.05555555555555555, 'Collective Success Probability': 0.20438004877305294}\n"
          ]
        }
      ]
    },
    {
      "cell_type": "markdown",
      "source": [
        "4.\n",
        "With 4 players, the overall probability of winning the group is about 48.2%, which means at least one of the 4 players will win in a turn.\n",
        "Players should coordinate and roll the dice evenly to maximize the group's chances of winning, increasing the overall probability of winning by nearly 50%.\n",
        "\n",
        "5. In a single toss, the probability of rolling a 1 with one die is 1/6.\n",
        "However, with two dice, the probability of rolling \"11\", \"16\", or \"66\" is 1/12. => Therefore, with one die, the success rate is higher compared to when using two dice. Furthermore, with a prize of 3,000,000, which is more than three times the cost of destroying one die, I conclude that I would decide to pay 1,000,000 to destroy one die in the final toss."
      ],
      "metadata": {
        "id": "zdfdVI7C2Qce"
      }
    }
  ]
}